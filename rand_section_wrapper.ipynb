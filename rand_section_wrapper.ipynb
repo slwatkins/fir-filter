{
 "cells": [
  {
   "cell_type": "code",
   "execution_count": 1,
   "metadata": {},
   "outputs": [
    {
     "name": "stderr",
     "output_type": "stream",
     "text": [
      "/galbascratch/samwatkins/anaconda3/lib/python3.6/importlib/_bootstrap.py:219: RuntimeWarning: to-Python converter for DataWriter already registered; second conversion method ignored.\n",
      "  return f(*args, **kwds)\n"
     ]
    }
   ],
   "source": [
    "import numpy as np\n",
    "import matplotlib.pyplot as plt\n",
    "from scipy.signal import correlate\n",
    "from scipy.fftpack import fft,ifft\n",
    "from glob import glob\n",
    "\n",
    "from SinglePhotonIO import getChannels\n",
    "from cont_trigger import rand_sections_wrapper, calc_psd, optimumfilt_wrapper\n",
    "from pycdms.detcal.misc.cut import autocuts\n",
    "from time import time\n",
    "\n",
    "% matplotlib inline"
   ]
  },
  {
   "cell_type": "code",
   "execution_count": 21,
   "metadata": {},
   "outputs": [],
   "source": [
    "# fpath = sorted(glob(\"/galbadata/Stanford/KO15/Continuous/180612_1554/180612_1554_*.mat\"))\n",
    "fpath = sorted(glob(\"/galbadata/Stanford/KO15/Continuous/180822_0917/180822_0917_*.mat\"))\n",
    "\n",
    "f = [int(ff[60:62].replace(\".\",\"\")) for ff in fpath]\n",
    "filepath = [x for _,x in sorted(zip(f,fpath))]"
   ]
  },
  {
   "cell_type": "code",
   "execution_count": 23,
   "metadata": {},
   "outputs": [
    {
     "name": "stdout",
     "output_type": "stream",
     "text": [
      "75.72930932044983\n"
     ]
    }
   ],
   "source": [
    "savepath = \"testfiles/\"\n",
    "savename = \"13180612_1554\"\n",
    "\n",
    "start = time()\n",
    "\n",
    "n, l = 2000, 125000\n",
    "t, res = rand_sections_wrapper(filepath, n, l, saveevents=False, savepath=savepath, savename=savename)\n",
    "print(time()-start)"
   ]
  },
  {
   "cell_type": "code",
   "execution_count": null,
   "metadata": {},
   "outputs": [],
   "source": [
    "fs = 625e3"
   ]
  },
  {
   "cell_type": "code",
   "execution_count": 24,
   "metadata": {
    "scrolled": true
   },
   "outputs": [],
   "source": [
    "pt = res.sum(axis=1)\n",
    "cut = autocuts(pt,fs=fs)\n",
    "f, psd = calc_psd(pt[cut], fs=fs, folded_over=False)"
   ]
  },
  {
   "cell_type": "code",
   "execution_count": 25,
   "metadata": {},
   "outputs": [
    {
     "data": {
      "image/png": "[encoded data removed]",
      "text/plain": [
       "<Figure size 720x432 with 1 Axes>"
      ]
     },
     "metadata": {},
     "output_type": "display_data"
    }
   ],
   "source": [
    "fig, ax = plt.subplots(figsize=(10,6))\n",
    "ax.plot(f[f>0],np.sqrt(2*psd[f>0]))\n",
    "ax.set_yscale(\"log\")\n",
    "ax.set_xscale(\"log\")"
   ]
  },
  {
   "cell_type": "code",
   "execution_count": 26,
   "metadata": {},
   "outputs": [],
   "source": [
    "tracelength = 125000\n",
    "# Dummy pulse template\n",
    "nbin = len(psd)\n",
    "ind_trigger = round(nbin/2)\n",
    "timess = 1.0/fs *(np.arange(1,nbin+1)-ind_trigger)\n",
    "lgc_b0= timess < 0.0\n",
    "\n",
    "# pulse shape\n",
    "tau_risepulse= 20.0e-6\n",
    "tau_fallpulse= 80.0e-6\n",
    "testtemplate = (1.0-np.exp(-timess/tau_risepulse))*np.exp(-timess/tau_fallpulse)\n",
    "testtemplate[lgc_b0]=0.0\n",
    "testtemplate = testtemplate/max(testtemplate)"
   ]
  },
  {
   "cell_type": "code",
   "execution_count": 27,
   "metadata": {},
   "outputs": [],
   "source": [
    "triglen = 64\n",
    "ttltime = 8e-6 # length of ttl pulse in seconds\n",
    "ttllen = int(ttltime*fs)\n",
    "ind_trigger = round(triglen/2)\n",
    "\n",
    "trigtemplate = np.zeros(triglen)\n",
    "trigtemplate[ind_trigger:ind_trigger+ttllen] = 1"
   ]
  },
  {
   "cell_type": "code",
   "execution_count": 28,
   "metadata": {},
   "outputs": [],
   "source": [
    "thresh = 4\n",
    "trigthresh = 0.8"
   ]
  },
  {
   "cell_type": "code",
   "execution_count": 29,
   "metadata": {},
   "outputs": [
    {
     "name": "stdout",
     "output_type": "stream",
     "text": [
      "167.51835560798645\n"
     ]
    }
   ],
   "source": [
    "start = time()\n",
    "pt, pa, tt, ta, ts, types = optimumfilt_wrapper(filepath[0], testtemplate, psd, tracelength, thresh, \n",
    "                                                trigtemplate=trigtemplate, trigthresh=trigthresh, iotype=\"getChannels\", \n",
    "                                                saveevents=False, savepath=savepath, savename=savename, dumpnum=2)\n",
    "print(time()-start)"
   ]
  },
  {
   "cell_type": "code",
   "execution_count": null,
   "metadata": {},
   "outputs": [],
   "source": []
  }
 ],
 "metadata": {
  "kernelspec": {
   "display_name": "Python 3",
   "language": "python",
   "name": "python3"
  },
  "language_info": {
   "codemirror_mode": {
    "name": "ipython",
    "version": 3
   },
   "file_extension": ".py",
   "mimetype": "text/x-python",
   "name": "python",
   "nbconvert_exporter": "python",
   "pygments_lexer": "ipython3",
   "version": "3.6.5"
  }
 },
 "nbformat": 4,
 "nbformat_minor": 2
}
