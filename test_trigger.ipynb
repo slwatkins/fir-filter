{
 "cells": [
  {
   "cell_type": "code",
   "execution_count": 1,
   "metadata": {},
   "outputs": [
    {
     "name": "stderr",
     "output_type": "stream",
     "text": [
      "/galbascratch/samwatkins/anaconda3/lib/python3.6/importlib/_bootstrap.py:219: RuntimeWarning: to-Python converter for DataWriter already registered; second conversion method ignored.\n",
      "  return f(*args, **kwds)\n"
     ]
    }
   ],
   "source": [
    "import numpy as np\n",
    "import matplotlib.pyplot as plt\n",
    "from glob import glob\n",
    "\n",
    "from SinglePhotonIO import getChannels\n",
    "from cont_trigger import rand_sections_wrapper, calc_psd, OptimumFilt\n",
    "from pycdms.detcal import autocuts\n",
    "from pycdms.fitting import ofamp\n",
    "from time import time\n",
    "\n",
    "% matplotlib inline"
   ]
  },
  {
   "cell_type": "code",
   "execution_count": 2,
   "metadata": {},
   "outputs": [],
   "source": [
    "fpath = sorted(glob(\"/galbadata/Stanford/KO15/Continuous/180612_1554/180612_1554*.mat\"))\n",
    "# fpath = sorted(glob(\"/galbadata/Stanford/KO15/Continuous/180703_0825*.mat\"))\n",
    "\n",
    "f = [int(ff[60:62].replace(\".\",\"\")) for ff in fpath]\n",
    "filepath = [x for _,x in sorted(zip(f,fpath))]"
   ]
  },
  {
   "cell_type": "code",
   "execution_count": 3,
   "metadata": {},
   "outputs": [
    {
     "name": "stdout",
     "output_type": "stream",
     "text": [
      "800.4451620578766\n"
     ]
    }
   ],
   "source": [
    "start = time()\n",
    "\n",
    "n, l = 2000, 125000\n",
    "t, res = rand_sections_wrapper(filepath, n, l)\n",
    "print(time()-start)\n"
   ]
  },
  {
   "cell_type": "code",
   "execution_count": null,
   "metadata": {},
   "outputs": [],
   "source": [
    "pt = res.sum(axis=1)\n",
    "cut = autocuts(pt, fs=1.25e6)\n",
    "f, psd = calc_psd(pt[cut], fs=1.25e6, folded_over=False)"
   ]
  },
  {
   "cell_type": "code",
   "execution_count": null,
   "metadata": {},
   "outputs": [],
   "source": [
    "fig, ax = plt.subplots(figsize=(10, 6))\n",
    "ax.plot(f[f>0],np.sqrt(2*psd[f>0]))\n",
    "ax.set_yscale(\"log\")\n",
    "ax.set_xscale(\"log\")"
   ]
  },
  {
   "cell_type": "code",
   "execution_count": null,
   "metadata": {},
   "outputs": [],
   "source": [
    "fs = 1.25e6\n",
    "tracelength = 125000\n",
    "# Dummy pulse template\n",
    "nbin = len(psd)\n",
    "ind_trigger = round(nbin/2)\n",
    "timess = 1.0/fs *(np.arange(1,nbin+1)-ind_trigger)\n",
    "lgc_b0= timess < 0.0\n",
    "\n",
    "# pulse shape\n",
    "tau_risepulse= 20.0e-6\n",
    "tau_fallpulse= 80.0e-6\n",
    "testTemplate = (1.0-np.exp(-timess/tau_risepulse))*np.exp(-timess/tau_fallpulse)\n",
    "testTemplate[lgc_b0]=0.0\n",
    "testTemplate = testTemplate/max(testTemplate)"
   ]
  },
  {
   "cell_type": "code",
   "execution_count": null,
   "metadata": {},
   "outputs": [],
   "source": [
    "triglen = 64\n",
    "ttltime = 8e-6 # length of ttl pulse in seconds\n",
    "ttllen = int(ttltime*fs)\n",
    "ind_trigger = round(triglen/2)\n",
    "\n",
    "trigtemplate = np.zeros(triglen)\n",
    "trigtemplate[ind_trigger:ind_trigger+ttllen] = 1"
   ]
  },
  {
   "cell_type": "code",
   "execution_count": 7,
   "metadata": {},
   "outputs": [
    {
     "name": "stdout",
     "output_type": "stream",
     "text": [
      "12.40680193901062\n"
     ]
    }
   ],
   "source": [
    "start = time()\n",
    "\n",
    "pulses = getChannels(filepath[0])\n",
    "fs = pulses[\"prop\"][\"sample_rate\"][0][0][0][0]\n",
    "traces = np.stack((pulses[\"A\"], pulses[\"B\"]), axis=1)/1024\n",
    "trig = pulses[\"T\"]*1e6/1024\n",
    "times = pulses[\"time\"]\n",
    "\n",
    "print(time()-start)"
   ]
  },
  {
   "cell_type": "code",
   "execution_count": 9,
   "metadata": {},
   "outputs": [],
   "source": [
    "if len(trig)==0:\n",
    "    OF = OptimumFilt(fs, testTemplate, psd, tracelength)\n",
    "    OF.filtertraces(traces, times)\n",
    "    OF.eventtrigger(4, positivepulses=False)\n",
    "else:\n",
    "    OF = OptimumFilt(fs, testTemplate, psd, tracelength, trigtemplate=trigtemplate)\n",
    "    OF.filtertraces(traces, times, trig = trig)\n",
    "    OF.eventtrigger(4, trigthresh=0.8)"
   ]
  },
  {
   "cell_type": "code",
   "execution_count": null,
   "metadata": {},
   "outputs": [],
   "source": []
  }
 ],
 "metadata": {
  "kernelspec": {
   "display_name": "Python 3",
   "language": "python",
   "name": "python3"
  },
  "language_info": {
   "codemirror_mode": {
    "name": "ipython",
    "version": 3
   },
   "file_extension": ".py",
   "mimetype": "text/x-python",
   "name": "python",
   "nbconvert_exporter": "python",
   "pygments_lexer": "ipython3",
   "version": "3.6.5"
  }
 },
 "nbformat": 4,
 "nbformat_minor": 2
}
