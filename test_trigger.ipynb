{
 "cells": [
  {
   "cell_type": "code",
   "execution_count": 1,
   "metadata": {},
   "outputs": [],
   "source": [
    "import numpy as np\n",
    "import matplotlib.pyplot as plt\n",
    "from glob import glob\n",
    "\n",
    "from SinglePhotonIO import getChannels\n",
    "from cont_trigger import rand_sections_wrapper, calc_psd, OptimumFilt\n",
    "from cut_utils import autocuts\n",
    "from time import time\n",
    "\n",
    "% matplotlib inline"
   ]
  },
  {
   "cell_type": "code",
   "execution_count": 2,
   "metadata": {},
   "outputs": [],
   "source": [
    "fpath = sorted(glob(\"/nerodata/HVStudy/2018/Run164/trace_data/180612_1554/*.mat\"))\n",
    "# fpath = sorted(glob(\"/nerodata/HVStudy/2018/Run164/trace_data/180703_0825/*.mat\"))\n",
    "\n",
    "f = []\n",
    "for ff in fpath:\n",
    "    f.append(int(ff[65:67].replace(\".\",\"\")))\n",
    "    \n",
    "filepath = [x for _,x in sorted(zip(f,fpath))]"
   ]
  },
  {
   "cell_type": "code",
   "execution_count": 3,
   "metadata": {},
   "outputs": [
    {
     "name": "stdout",
     "output_type": "stream",
     "text": [
      "929.2312598228455\n"
     ]
    }
   ],
   "source": [
    "start = time()\n",
    "\n",
    "n, l = 2000, 125000\n",
    "t, res = rand_sections_wrapper(filepath, n, l)\n",
    "print(time()-start)\n"
   ]
  },
  {
   "cell_type": "code",
   "execution_count": 4,
   "metadata": {},
   "outputs": [],
   "source": [
    "pt = res.sum(axis=1)\n",
    "cut = autocuts(pt, fs=1.25e6)\n",
    "f, psd = calc_psd(pt[cut], fs=1.25e6, folded_over=False)"
   ]
  },
  {
   "cell_type": "code",
   "execution_count": 5,
   "metadata": {},
   "outputs": [
    {
     "data": {
      "image/png": "[encoded data removed]",
      "text/plain": [
       "<Figure size 720x432 with 1 Axes>"
      ]
     },
     "metadata": {},
     "output_type": "display_data"
    }
   ],
   "source": [
    "fig, ax = plt.subplots(figsize=(10, 6))\n",
    "ax.plot(f[f>0],np.sqrt(2*psd[f>0]))\n",
    "ax.set_yscale(\"log\")\n",
    "ax.set_xscale(\"log\")"
   ]
  },
  {
   "cell_type": "code",
   "execution_count": 6,
   "metadata": {},
   "outputs": [],
   "source": [
    "fs = 1.25e6\n",
    "tracelength = 125000\n",
    "# Dummy pulse template\n",
    "nbin = len(psd)\n",
    "ind_trigger = round(nbin/2)\n",
    "timess = 1.0/fs *(np.arange(1,nbin+1)-ind_trigger)\n",
    "lgc_b0= timess < 0.0\n",
    "\n",
    "# pulse shape\n",
    "tau_risepulse= 20.0e-6\n",
    "tau_fallpulse= 80.0e-6\n",
    "testTemplate = (1.0-np.exp(-timess/tau_risepulse))*np.exp(-timess/tau_fallpulse)\n",
    "testTemplate[lgc_b0]=0.0\n",
    "testTemplate = testTemplate/max(testTemplate)"
   ]
  },
  {
   "cell_type": "code",
   "execution_count": 7,
   "metadata": {},
   "outputs": [],
   "source": [
    "triglen = 64\n",
    "ttltime = 8e-6 # length of ttl pulse in seconds\n",
    "ttllen = int(ttltime*fs)\n",
    "ind_trigger = round(triglen/2)\n",
    "\n",
    "trigtemplate = np.zeros(triglen)\n",
    "trigtemplate[ind_trigger:ind_trigger+ttllen] = 1"
   ]
  },
  {
   "cell_type": "code",
   "execution_count": 8,
   "metadata": {},
   "outputs": [
    {
     "name": "stdout",
     "output_type": "stream",
     "text": [
      "13.232543706893921\n"
     ]
    }
   ],
   "source": [
    "start = time()\n",
    "\n",
    "pulses = getChannels(filepath[0])\n",
    "fs = pulses[\"prop\"][\"sample_rate\"][0][0][0][0]\n",
    "traces = np.stack((pulses[\"A\"], pulses[\"B\"]), axis=1)/1024\n",
    "trig = pulses[\"T\"]*1e6/1024\n",
    "times = pulses[\"time\"]\n",
    "\n",
    "print(time()-start)"
   ]
  },
  {
   "cell_type": "code",
   "execution_count": 9,
   "metadata": {
    "scrolled": true
   },
   "outputs": [
    {
     "ename": "ValueError",
     "evalue": "could not convert string to float: ",
     "output_type": "error",
     "traceback": [
      "\u001b[0;31m---------------------------------------------------------------------------\u001b[0m",
      "\u001b[0;31mValueError\u001b[0m                                Traceback (most recent call last)",
      "\u001b[0;32m<ipython-input-9-4123f43132f5>\u001b[0m in \u001b[0;36m<module>\u001b[0;34m()\u001b[0m\n\u001b[0;32m----> 1\u001b[0;31m \u001b[0;34m[\u001b[0m\u001b[0mfloat\u001b[0m\u001b[0;34m(\u001b[0m\u001b[0mval\u001b[0m\u001b[0;34m)\u001b[0m \u001b[0;32mfor\u001b[0m \u001b[0mval\u001b[0m \u001b[0;32min\u001b[0m \u001b[0mpulses\u001b[0m\u001b[0;34m[\u001b[0m\u001b[0;34m\"prop\"\u001b[0m\u001b[0;34m]\u001b[0m\u001b[0;34m[\u001b[0m\u001b[0;34m\"agilent\"\u001b[0m\u001b[0;34m]\u001b[0m\u001b[0;34m[\u001b[0m\u001b[0;36m0\u001b[0m\u001b[0;34m]\u001b[0m\u001b[0;34m[\u001b[0m\u001b[0;36m0\u001b[0m\u001b[0;34m]\u001b[0m\u001b[0;34m[\u001b[0m\u001b[0;36m0\u001b[0m\u001b[0;34m]\u001b[0m\u001b[0;34m[\u001b[0m\u001b[0;36m4\u001b[0m\u001b[0;34m:\u001b[0m\u001b[0;34m-\u001b[0m\u001b[0;36m2\u001b[0m\u001b[0;34m]\u001b[0m\u001b[0;34m.\u001b[0m\u001b[0msplit\u001b[0m\u001b[0;34m(\u001b[0m\u001b[0;34m','\u001b[0m\u001b[0;34m)\u001b[0m\u001b[0;34m]\u001b[0m\u001b[0;34m\u001b[0m\u001b[0m\n\u001b[0m",
      "\u001b[0;32m<ipython-input-9-4123f43132f5>\u001b[0m in \u001b[0;36m<listcomp>\u001b[0;34m(.0)\u001b[0m\n\u001b[0;32m----> 1\u001b[0;31m \u001b[0;34m[\u001b[0m\u001b[0mfloat\u001b[0m\u001b[0;34m(\u001b[0m\u001b[0mval\u001b[0m\u001b[0;34m)\u001b[0m \u001b[0;32mfor\u001b[0m \u001b[0mval\u001b[0m \u001b[0;32min\u001b[0m \u001b[0mpulses\u001b[0m\u001b[0;34m[\u001b[0m\u001b[0;34m\"prop\"\u001b[0m\u001b[0;34m]\u001b[0m\u001b[0;34m[\u001b[0m\u001b[0;34m\"agilent\"\u001b[0m\u001b[0;34m]\u001b[0m\u001b[0;34m[\u001b[0m\u001b[0;36m0\u001b[0m\u001b[0;34m]\u001b[0m\u001b[0;34m[\u001b[0m\u001b[0;36m0\u001b[0m\u001b[0;34m]\u001b[0m\u001b[0;34m[\u001b[0m\u001b[0;36m0\u001b[0m\u001b[0;34m]\u001b[0m\u001b[0;34m[\u001b[0m\u001b[0;36m4\u001b[0m\u001b[0;34m:\u001b[0m\u001b[0;34m-\u001b[0m\u001b[0;36m2\u001b[0m\u001b[0;34m]\u001b[0m\u001b[0;34m.\u001b[0m\u001b[0msplit\u001b[0m\u001b[0;34m(\u001b[0m\u001b[0;34m','\u001b[0m\u001b[0;34m)\u001b[0m\u001b[0;34m]\u001b[0m\u001b[0;34m\u001b[0m\u001b[0m\n\u001b[0m",
      "\u001b[0;31mValueError\u001b[0m: could not convert string to float: "
     ]
    }
   ],
   "source": [
    "[float(val) for val in pulses[\"prop\"][\"agilent\"][0][0][0][4:-2].split(',')]\n",
    "pulses[\"prop\"][\"agilent\"][0][0][0][4:-2]"
   ]
  },
  {
   "cell_type": "code",
   "execution_count": 10,
   "metadata": {},
   "outputs": [],
   "source": [
    "if len(trig)==0:\n",
    "    OF = OptimumFilt(fs, testTemplate, psd, tracelength)\n",
    "    OF.filtertraces(traces, times)\n",
    "    OF.eventtrigger(4, positivepulses=False)\n",
    "else:\n",
    "    OF = OptimumFilt(fs, testTemplate, psd, tracelength, trigtemplate=trigtemplate)\n",
    "    OF.filtertraces(traces, times, trig = trig)\n",
    "    OF.eventtrigger(4, trigthresh=0.8)"
   ]
  },
  {
   "cell_type": "code",
   "execution_count": 14,
   "metadata": {},
   "outputs": [
    {
     "data": {
      "text/plain": [
       "2.636557777481901e-07"
      ]
     },
     "execution_count": 14,
     "metadata": {},
     "output_type": "execute_result"
    }
   ],
   "source": [
    "27*OF.resolution"
   ]
  },
  {
   "cell_type": "code",
   "execution_count": 132,
   "metadata": {},
   "outputs": [
    {
     "data": {
      "text/plain": [
       "(2.5e-06, 3.5e-06)"
      ]
     },
     "execution_count": 132,
     "metadata": {},
     "output_type": "execute_result"
    },
    {
     "data": {
      "image/png": "[encoded data removed]",
      "text/plain": [
       "<Figure size 432x288 with 1 Axes>"
      ]
     },
     "metadata": {},
     "output_type": "display_data"
    }
   ],
   "source": [
    "tarr = np.arange(0,len(traces[0].sum(axis=0)))/fs\n",
    "plt.plot(tarr, traces[0].sum(axis=0), color=\"k\")\n",
    "\n",
    "n = 104\n",
    "for t, tt in zip(OF.pulsetimes[:n], OF.evttraces[:n].sum(axis=1)):\n",
    "    \n",
    "    relt = t-times[0]\n",
    "    tarr = np.arange(0,len(tt))/fs + relt - (len(tt)//2)/fs\n",
    "    plt.plot(tarr, tt)\n",
    "\n",
    "# plt.xlim([0.05,0.15])\n",
    "plt.ylim([2.5e-6,3.5e-6])"
   ]
  },
  {
   "cell_type": "code",
   "execution_count": null,
   "metadata": {},
   "outputs": [],
   "source": []
  }
 ],
 "metadata": {
  "kernelspec": {
   "display_name": "Python 3",
   "language": "python",
   "name": "python3"
  },
  "language_info": {
   "codemirror_mode": {
    "name": "ipython",
    "version": 3
   },
   "file_extension": ".py",
   "mimetype": "text/x-python",
   "name": "python",
   "nbconvert_exporter": "python",
   "pygments_lexer": "ipython3",
   "version": "3.6.5"
  }
 },
 "nbformat": 4,
 "nbformat_minor": 2
}
